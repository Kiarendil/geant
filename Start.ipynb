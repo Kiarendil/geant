{
 "cells": [
  {
   "cell_type": "markdown",
   "metadata": {},
   "source": [
    "# Calibration Geant4 tutorial expample B4a"
   ]
  },
  {
   "cell_type": "markdown",
   "metadata": {},
   "source": [
    "In this notebook represented code solution for recovering real energy $ E_{real} $ of colliding particles ($ e^- $) in the detector using calibration prosess with known energy of $ e^- $ first and then recovering unknown energies through energy response $ E_{gap} $ of detection gap, where detector is simulated using tutorial expample B4a from standart Geant4 libraries. "
   ]
  },
  {
   "cell_type": "markdown",
   "metadata": {},
   "source": [
    "## Import libraries etc"
   ]
  },
  {
   "cell_type": "code",
   "execution_count": 2,
   "metadata": {},
   "outputs": [
    {
     "name": "stdout",
     "output_type": "stream",
     "text": [
      "Welcome to JupyROOT 6.18/00\n"
     ]
    }
   ],
   "source": [
    "import ROOT\n",
    "from IPython.display import Image, display\n",
    "\n",
    "import numpy as np\n",
    "import matplotlib.pyplot as plt\n",
    "import scipy.optimize as spopt\n",
    "from scipy.stats import norm\n",
    "import matplotlib.mlab as mlab\n",
    "import pandas as pd\n",
    "import glob\n",
    "\n",
    "from IPython.display import display, Math, Latex\n",
    "def print_math(string):\n",
    "    display(Math(string))\n",
    "\n",
    "path_to_data = '/Users/kirillivanov/Documents/Docker/geant/Geant4-10.5.1/examples/basic/B4/B4a-build2/'"
   ]
  },
  {
   "cell_type": "markdown",
   "metadata": {},
   "source": [
    "## Calibration part"
   ]
  },
  {
   "cell_type": "markdown",
   "metadata": {},
   "source": [
    "Create observable energies vars. __Energy__ is list of known energies we collide $ e^- $ with for calibration"
   ]
  },
  {
   "cell_type": "code",
   "execution_count": 3,
   "metadata": {},
   "outputs": [
    {
     "name": "stdout",
     "output_type": "stream",
     "text": [
      "\n",
      "\u001b[1mRooFit v3.60 -- Developed by Wouter Verkerke and David Kirkby\u001b[0m \n",
      "                Copyright (C) 2000-2013 NIKHEF, University of California & Stanford University\n",
      "                All rights reserved, please read http://roofit.sourceforge.net/license.txt\n",
      "\n"
     ]
    }
   ],
   "source": [
    "Egap = ROOT.RooRealVar('Egap', 'E_{gap}, [MeV]', 0, 620)\n",
    "Ereal = ROOT.RooRealVar('Ereal', 'E_{real}, [MeV]', 0, 12000)\n",
    "energy = [100, 1000, 2000, 3000, 4000, 5000, 6000, 7000, 8000, 9000, 10000]\n",
    "\n",
    "varset_g = ROOT.RooArgSet(Egap)"
   ]
  },
  {
   "cell_type": "markdown",
   "metadata": {},
   "source": [
    "#### Importing 10 dataset with $ E_{gap} $ from generated ROOT files and define approximate mean and sigma for have them as starting points of fit"
   ]
  },
  {
   "cell_type": "markdown",
   "metadata": {},
   "source": [
    "We have generated 10 ROOT files of 1000 collisions of $ e^- $ in each of them, with energy from the list above "
   ]
  },
  {
   "cell_type": "code",
   "execution_count": 5,
   "metadata": {},
   "outputs": [
    {
     "name": "stdout",
     "output_type": "stream",
     "text": [
      "0-ds: mean0 = 4.148804807508352, sigma0 = 2.987721155060413\n",
      "1-ds: mean0 = 48.15400547058493, sigma0 = 10.197475573623768\n",
      "2-ds: mean0 = 98.45503595959258, sigma0 = 14.715561464677876\n",
      "3-ds: mean0 = 146.70747734659614, sigma0 = 17.44016890780711\n",
      "4-ds: mean0 = 195.45286386551777, sigma0 = 20.50078026474376\n",
      "5-ds: mean0 = 245.00938235235276, sigma0 = 21.974159149020174\n",
      "6-ds: mean0 = 292.9809113135249, sigma0 = 25.461405015618503\n",
      "7-ds: mean0 = 341.44049163601466, sigma0 = 26.16959806018399\n",
      "8-ds: mean0 = 391.15550742809563, sigma0 = 28.10067257093031\n",
      "9-ds: mean0 = 438.9434363935678, sigma0 = 32.57616883616201\n",
      "10-ds: mean0 = 486.36264375910235, sigma0 = 32.79456306803501\n"
     ]
    }
   ],
   "source": [
    "ds_list = []\n",
    "mean0_list = []\n",
    "sigma0_list = []\n",
    "\n",
    "for i in range(0, 11):\n",
    "    filename = f'{i}Gev'\n",
    "    file = ROOT.TFile(path_to_data + filename + '.root')\n",
    "    ds = ROOT.RooDataSet(f'data{i}', '', file.Get('B4'), varset_g)\n",
    "    ds_list.append(ds)\n",
    "    mean0_list.append(ds.mean(Egap))\n",
    "    sigma0_list.append(ds.sigma(Egap))\n",
    "    print(f'{i}-ds: mean0 = {mean0_list[i]}, sigma0 = {sigma0_list[i]}')"
   ]
  },
  {
   "cell_type": "markdown",
   "metadata": {},
   "source": [
    "#### Fit all 10 datasets"
   ]
  },
  {
   "cell_type": "code",
   "execution_count": 7,
   "metadata": {},
   "outputs": [
    {
     "name": "stdout",
     "output_type": "stream",
     "text": [
      "0-ds: mean = 1.2981933468049334 +- 0.5014222878697443\n",
      "1-ds: mean = 48.153947767088084 +- 0.322477421041512\n",
      "2-ds: mean = 98.45503564298326 +- 0.4653433624121064\n",
      "3-ds: mean = 146.70747706803792 +- 0.5515339485766333\n",
      "4-ds: mean = 195.4528635741873 +- 0.6482933066509275\n",
      "5-ds: mean = 245.00938207765324 +- 0.6948952901321093\n",
      "6-ds: mean = 292.98091094191375 +- 0.8051553738958432\n",
      "7-ds: mean = 341.4404913434761 +- 0.8275797632198305\n",
      "8-ds: mean = 391.15550715559675 +- 0.8885879478850143\n",
      "9-ds: mean = 438.94343853843293 +- 1.0301257723682227\n",
      "10-ds: mean = 486.3658279643245 +- 1.0374703708835682\n",
      "[#1] INFO:Minization -- RooMinimizer::optimizeConst: activating const optimization\n",
      "[#1] INFO:Eval -- RooAbsTestStatistic::initMPMode: started 7 remote server process.\n",
      "[#1] INFO:Minization -- RooMinimizer::optimizeConst: deactivating const optimization\n",
      "\n",
      "  RooFitResult: minimized FCN value: 2355.38, estimated distance to minimum: 3.70258e-06\n",
      "                covariance matrix quality: Full, accurate covariance matrix\n",
      "                Status : MINIMIZE=0 HESSE=0 \n",
      "\n",
      "    Floating Parameter    FinalValue +/-  Error   \n",
      "  --------------------  --------------------------\n",
      "           mean_ecalib    1.2982e+00 +/-  5.01e-01\n",
      "          sigma_ecalib    4.5555e+00 +/-  2.50e-01\n",
      "\n",
      "[#1] INFO:Minization -- RooMinimizer::optimizeConst: activating const optimization\n",
      "[#1] INFO:Eval -- RooAbsTestStatistic::initMPMode: started 7 remote server process.\n",
      "[#1] INFO:Minization -- RooMinimizer::optimizeConst: deactivating const optimization\n",
      "\n",
      "  RooFitResult: minimized FCN value: 3741.08, estimated distance to minimum: 1.19364e-08\n",
      "                covariance matrix quality: Full, accurate covariance matrix\n",
      "                Status : MINIMIZE=0 HESSE=0 \n",
      "\n",
      "    Floating Parameter    FinalValue +/-  Error   \n",
      "  --------------------  --------------------------\n",
      "           mean_ecalib    4.8154e+01 +/-  3.22e-01\n",
      "          sigma_ecalib    1.0198e+01 +/-  2.28e-01\n",
      "\n",
      "[#1] INFO:Minization -- RooMinimizer::optimizeConst: activating const optimization\n",
      "[#1] INFO:Eval -- RooAbsTestStatistic::initMPMode: started 7 remote server process.\n",
      "[#1] INFO:Minization -- RooMinimizer::optimizeConst: deactivating const optimization\n",
      "\n",
      "  RooFitResult: minimized FCN value: 4107.84, estimated distance to minimum: 1.8914e-08\n",
      "                covariance matrix quality: Full, accurate covariance matrix\n",
      "                Status : MINIMIZE=0 HESSE=0 \n",
      "\n",
      "    Floating Parameter    FinalValue +/-  Error   \n",
      "  --------------------  --------------------------\n",
      "           mean_ecalib    9.8455e+01 +/-  4.65e-01\n",
      "          sigma_ecalib    1.4716e+01 +/-  3.29e-01\n",
      "\n",
      "[#1] INFO:Minization -- RooMinimizer::optimizeConst: activating const optimization\n",
      "[#1] INFO:Eval -- RooAbsTestStatistic::initMPMode: started 7 remote server process.\n",
      "[#1] INFO:Minization -- RooMinimizer::optimizeConst: deactivating const optimization\n",
      "\n",
      "  RooFitResult: minimized FCN value: 4277.71, estimated distance to minimum: 5.50674e-06\n",
      "                covariance matrix quality: Full, accurate covariance matrix\n",
      "                Status : MINIMIZE=0 HESSE=0 \n",
      "\n",
      "    Floating Parameter    FinalValue +/-  Error   \n",
      "  --------------------  --------------------------\n",
      "           mean_ecalib    1.4671e+02 +/-  5.52e-01\n",
      "          sigma_ecalib    1.7441e+01 +/-  3.90e-01\n",
      "\n",
      "[#1] INFO:Minization -- RooMinimizer::optimizeConst: activating const optimization\n",
      "[#1] INFO:Eval -- RooAbsTestStatistic::initMPMode: started 7 remote server process.\n",
      "[#1] INFO:Minization -- RooMinimizer::optimizeConst: deactivating const optimization\n",
      "\n",
      "  RooFitResult: minimized FCN value: 4439.4, estimated distance to minimum: 5.40071e-08\n",
      "                covariance matrix quality: Full, accurate covariance matrix\n",
      "                Status : MINIMIZE=0 HESSE=0 \n",
      "\n",
      "    Floating Parameter    FinalValue +/-  Error   \n",
      "  --------------------  --------------------------\n",
      "           mean_ecalib    1.9545e+02 +/-  6.48e-01\n",
      "          sigma_ecalib    2.0501e+01 +/-  4.58e-01\n",
      "\n",
      "[#1] INFO:Minization -- RooMinimizer::optimizeConst: activating const optimization\n",
      "[#1] INFO:Eval -- RooAbsTestStatistic::initMPMode: started 7 remote server process.\n",
      "[#1] INFO:Minization -- RooMinimizer::optimizeConst: deactivating const optimization\n",
      "\n",
      "  RooFitResult: minimized FCN value: 4508.81, estimated distance to minimum: 6.39495e-07\n",
      "                covariance matrix quality: Full, accurate covariance matrix\n",
      "                Status : MINIMIZE=0 HESSE=0 \n",
      "\n",
      "    Floating Parameter    FinalValue +/-  Error   \n",
      "  --------------------  --------------------------\n",
      "           mean_ecalib    2.4501e+02 +/-  6.95e-01\n",
      "          sigma_ecalib    2.1975e+01 +/-  4.91e-01\n",
      "\n",
      "[#1] INFO:Minization -- RooMinimizer::optimizeConst: activating const optimization\n",
      "[#1] INFO:Eval -- RooAbsTestStatistic::initMPMode: started 7 remote server process.\n",
      "[#1] INFO:Minization -- RooMinimizer::optimizeConst: deactivating const optimization\n",
      "\n",
      "  RooFitResult: minimized FCN value: 4656.1, estimated distance to minimum: 4.35417e-08\n",
      "                covariance matrix quality: Full, accurate covariance matrix\n",
      "                Status : MINIMIZE=0 HESSE=0 \n",
      "\n",
      "    Floating Parameter    FinalValue +/-  Error   \n",
      "  --------------------  --------------------------\n",
      "           mean_ecalib    2.9298e+02 +/-  8.05e-01\n",
      "          sigma_ecalib    2.5461e+01 +/-  5.69e-01\n",
      "\n",
      "[#1] INFO:Minization -- RooMinimizer::optimizeConst: activating const optimization\n",
      "[#1] INFO:Eval -- RooAbsTestStatistic::initMPMode: started 7 remote server process.\n",
      "[#1] INFO:Minization -- RooMinimizer::optimizeConst: deactivating const optimization\n",
      "\n",
      "  RooFitResult: minimized FCN value: 4683.54, estimated distance to minimum: 1.88841e-06\n",
      "                covariance matrix quality: Full, accurate covariance matrix\n",
      "                Status : MINIMIZE=0 HESSE=0 \n",
      "\n",
      "    Floating Parameter    FinalValue +/-  Error   \n",
      "  --------------------  --------------------------\n",
      "           mean_ecalib    3.4144e+02 +/-  8.28e-01\n",
      "          sigma_ecalib    2.6170e+01 +/-  5.85e-01\n",
      "\n",
      "[#1] INFO:Minization -- RooMinimizer::optimizeConst: activating const optimization\n",
      "[#1] INFO:Eval -- RooAbsTestStatistic::initMPMode: started 7 remote server process.\n",
      "[#1] INFO:Minization -- RooMinimizer::optimizeConst: deactivating const optimization\n",
      "\n",
      "  RooFitResult: minimized FCN value: 4754.73, estimated distance to minimum: 2.6253e-06\n",
      "                covariance matrix quality: Full, accurate covariance matrix\n",
      "                Status : MINIMIZE=0 HESSE=0 \n",
      "\n",
      "    Floating Parameter    FinalValue +/-  Error   \n",
      "  --------------------  --------------------------\n",
      "           mean_ecalib    3.9116e+02 +/-  8.89e-01\n",
      "          sigma_ecalib    2.8100e+01 +/-  6.28e-01\n",
      "\n",
      "[#1] INFO:Minization -- RooMinimizer::optimizeConst: activating const optimization\n",
      "[#1] INFO:Eval -- RooAbsTestStatistic::initMPMode: started 7 remote server process.\n",
      "[#1] INFO:Minization -- RooMinimizer::optimizeConst: deactivating const optimization\n",
      "\n",
      "  RooFitResult: minimized FCN value: 4902.52, estimated distance to minimum: 9.44903e-07\n",
      "                covariance matrix quality: Full, accurate covariance matrix\n",
      "                Status : MINIMIZE=0 HESSE=0 \n",
      "\n",
      "    Floating Parameter    FinalValue +/-  Error   \n",
      "  --------------------  --------------------------\n",
      "           mean_ecalib    4.3894e+02 +/-  1.03e+00\n",
      "          sigma_ecalib    3.2575e+01 +/-  7.28e-01\n",
      "\n",
      "[#1] INFO:Minization -- RooMinimizer::optimizeConst: activating const optimization\n",
      "[#1] INFO:Eval -- RooAbsTestStatistic::initMPMode: started 7 remote server process.\n",
      "[#1] INFO:Minization -- RooMinimizer::optimizeConst: deactivating const optimization\n",
      "\n",
      "  RooFitResult: minimized FCN value: 4909.18, estimated distance to minimum: 4.00258e-08\n",
      "                covariance matrix quality: Full, accurate covariance matrix\n",
      "                Status : MINIMIZE=0 HESSE=0 \n",
      "\n",
      "    Floating Parameter    FinalValue +/-  Error   \n",
      "  --------------------  --------------------------\n",
      "           mean_ecalib    4.8637e+02 +/-  1.04e+00\n",
      "          sigma_ecalib    3.2801e+01 +/-  7.35e-01\n",
      "\n"
     ]
    }
   ],
   "source": [
    "mean_list = []\n",
    "mean_er_list = []\n",
    "gaus_calib_list = []\n",
    "\n",
    "for i in range(0, 11):\n",
    "    m = mean0_list[i]\n",
    "    s = sigma0_list[i]\n",
    "    mean_ecalib  = ROOT.RooRealVar ('mean_ecalib' , 'mean ', m, 0.2 * m  , 2 * m)\n",
    "    sigma_ecalib = ROOT.RooRealVar ('sigma_ecalib', 'sigma', 3 * s, 0.2 * s , 10 * s)\n",
    "\n",
    "    pdf_ecalib   = ROOT.RooGaussian('pdfEcalib'   , 'gaus', Egap, mean_ecalib, sigma_ecalib)\n",
    "    \n",
    "    fit_r = pdf_ecalib.fitTo(ds_list[i], ROOT.RooFit.NumCPU(7), ROOT.RooFit.PrintLevel(-1), ROOT.RooFit.Save())\n",
    "    fit_r.Print()\n",
    "    \n",
    "    gaus_calib_list.append(pdf_ecalib)\n",
    "    mean_list.append(mean_ecalib.getVal())\n",
    "    mean_er_list.append(mean_ecalib.getError())\n",
    "\n",
    "for i in range(0, 11):\n",
    "    print(f'{i}-ds: mean = {mean_list[i]} +- {mean_er_list[i]}')"
   ]
  },
  {
   "cell_type": "markdown",
   "metadata": {},
   "source": [
    "#### Example of how fitted dataset looks like"
   ]
  },
  {
   "cell_type": "code",
   "execution_count": 14,
   "metadata": {},
   "outputs": [
    {
     "data": {
      "image/png": "[encoded data removed]",
      "text/plain": [
       "<IPython.core.display.Image object>"
      ]
     },
     "metadata": {
      "image/png": {
       "width": 550
      }
     },
     "output_type": "display_data"
    },
    {
     "name": "stderr",
     "output_type": "stream",
     "text": [
      "Warning in <TCanvas::Constructor>: Deleting canvas with same name: cB\n",
      "Info in <TCanvas::Print>: png file images/png/test_for_output_ds.png has been created\n",
      "Info in <TCanvas::Print>: pdf file images/pdf/test_for_output_ds.pdf has been created\n"
     ]
    }
   ],
   "source": [
    "bufram = Egap.frame(350, 650, 60)\n",
    "\n",
    "_MYW = 800\n",
    "_MYH = 600\n",
    "_MYT = 0.08*_MYH\n",
    "_MYB = 0.14*_MYH\n",
    "_MYL = 0.15*_MYW\n",
    "_MYR = 0.04*_MYW\n",
    "\n",
    "cB = ROOT.TCanvas('cB','cB',_MYW,_MYH)\n",
    "cB.SetLeftMargin( _MYL/_MYW )\n",
    "cB.SetRightMargin( _MYR/_MYW )\n",
    "cB.SetTopMargin( _MYT/_MYH )\n",
    "cB.SetBottomMargin( _MYB/_MYH )\n",
    "cB.SetTickx(0)\n",
    "cB.SetTicky(0)\n",
    "bufram.GetYaxis().SetTitleOffset(1.3)\n",
    "\n",
    "# for i in range(0, 11):\n",
    "#     ds_list[i].plotOn(bufram, ROOT.RooFit.MarkerSize(0.6), ROOT.RooFit.Name('data'))\n",
    "\n",
    "ds_list[10].plotOn(bufram, ROOT.RooFit.MarkerSize(0.6), ROOT.RooFit.Name('data'))\n",
    "gaus_calib_list[10].plotOn(bufram)\n",
    "# pdf_ecalib.plotOn(bufram)\n",
    "bufram.Draw()\n",
    "\n",
    "cB.SaveAs('images/png/test_for_output_ds.png')\n",
    "cB.SaveAs('images/pdf/test_for_output_ds.pdf')\n",
    "display(Image(filename = 'images/png/test_for_output_ds.png', retina = False, width = 550))"
   ]
  },
  {
   "cell_type": "markdown",
   "metadata": {},
   "source": [
    "#### Here we export results of fit to a SCV file"
   ]
  },
  {
   "cell_type": "code",
   "execution_count": 15,
   "metadata": {},
   "outputs": [
    {
     "data": {
      "text/html": [
       "<div>\n",
       "<style scoped>\n",
       "    .dataframe tbody tr th:only-of-type {\n",
       "        vertical-align: middle;\n",
       "    }\n",
       "\n",
       "    .dataframe tbody tr th {\n",
       "        vertical-align: top;\n",
       "    }\n",
       "\n",
       "    .dataframe thead th {\n",
       "        text-align: right;\n",
       "    }\n",
       "</style>\n",
       "<table border=\"1\" class=\"dataframe\">\n",
       "  <thead>\n",
       "    <tr style=\"text-align: right;\">\n",
       "      <th></th>\n",
       "      <th>Energy, MeV</th>\n",
       "      <th>Sigma(E), MeV</th>\n",
       "      <th>E_gap, MeV</th>\n",
       "      <th>Sigma(E_gap), MeV</th>\n",
       "    </tr>\n",
       "  </thead>\n",
       "  <tbody>\n",
       "    <tr>\n",
       "      <th>0</th>\n",
       "      <td>100.0</td>\n",
       "      <td>0.0</td>\n",
       "      <td>1.298193</td>\n",
       "      <td>0.501422</td>\n",
       "    </tr>\n",
       "    <tr>\n",
       "      <th>1</th>\n",
       "      <td>1000.0</td>\n",
       "      <td>0.0</td>\n",
       "      <td>48.153948</td>\n",
       "      <td>0.322477</td>\n",
       "    </tr>\n",
       "    <tr>\n",
       "      <th>2</th>\n",
       "      <td>2000.0</td>\n",
       "      <td>0.0</td>\n",
       "      <td>98.455036</td>\n",
       "      <td>0.465343</td>\n",
       "    </tr>\n",
       "    <tr>\n",
       "      <th>3</th>\n",
       "      <td>3000.0</td>\n",
       "      <td>0.0</td>\n",
       "      <td>146.707477</td>\n",
       "      <td>0.551534</td>\n",
       "    </tr>\n",
       "    <tr>\n",
       "      <th>4</th>\n",
       "      <td>4000.0</td>\n",
       "      <td>0.0</td>\n",
       "      <td>195.452864</td>\n",
       "      <td>0.648293</td>\n",
       "    </tr>\n",
       "    <tr>\n",
       "      <th>5</th>\n",
       "      <td>5000.0</td>\n",
       "      <td>0.0</td>\n",
       "      <td>245.009382</td>\n",
       "      <td>0.694895</td>\n",
       "    </tr>\n",
       "    <tr>\n",
       "      <th>6</th>\n",
       "      <td>6000.0</td>\n",
       "      <td>0.0</td>\n",
       "      <td>292.980911</td>\n",
       "      <td>0.805155</td>\n",
       "    </tr>\n",
       "    <tr>\n",
       "      <th>7</th>\n",
       "      <td>7000.0</td>\n",
       "      <td>0.0</td>\n",
       "      <td>341.440491</td>\n",
       "      <td>0.827580</td>\n",
       "    </tr>\n",
       "    <tr>\n",
       "      <th>8</th>\n",
       "      <td>8000.0</td>\n",
       "      <td>0.0</td>\n",
       "      <td>391.155507</td>\n",
       "      <td>0.888588</td>\n",
       "    </tr>\n",
       "    <tr>\n",
       "      <th>9</th>\n",
       "      <td>9000.0</td>\n",
       "      <td>0.0</td>\n",
       "      <td>438.943439</td>\n",
       "      <td>1.030126</td>\n",
       "    </tr>\n",
       "    <tr>\n",
       "      <th>10</th>\n",
       "      <td>10000.0</td>\n",
       "      <td>0.0</td>\n",
       "      <td>486.365828</td>\n",
       "      <td>1.037470</td>\n",
       "    </tr>\n",
       "  </tbody>\n",
       "</table>\n",
       "</div>"
      ],
      "text/plain": [
       "    Energy, MeV  Sigma(E), MeV  E_gap, MeV  Sigma(E_gap), MeV\n",
       "0         100.0            0.0    1.298193           0.501422\n",
       "1        1000.0            0.0   48.153948           0.322477\n",
       "2        2000.0            0.0   98.455036           0.465343\n",
       "3        3000.0            0.0  146.707477           0.551534\n",
       "4        4000.0            0.0  195.452864           0.648293\n",
       "5        5000.0            0.0  245.009382           0.694895\n",
       "6        6000.0            0.0  292.980911           0.805155\n",
       "7        7000.0            0.0  341.440491           0.827580\n",
       "8        8000.0            0.0  391.155507           0.888588\n",
       "9        9000.0            0.0  438.943439           1.030126\n",
       "10      10000.0            0.0  486.365828           1.037470"
      ]
     },
     "execution_count": 15,
     "metadata": {},
     "output_type": "execute_result"
    }
   ],
   "source": [
    "calib_log = []\n",
    "columns_list = ['Energy, MeV', 'Sigma(E), MeV', 'E_gap, MeV', 'Sigma(E_gap), MeV']\n",
    "df = pd.DataFrame(columns = columns_list)\n",
    "\n",
    "for i in range(0, 11):\n",
    "    a_log = [energy[i], 0, mean_list[i], mean_er_list[i]]\n",
    "    df.loc[i] = a_log\n",
    "    \n",
    "df.to_csv('log.csv', index = False)\n",
    "df"
   ]
  },
  {
   "cell_type": "markdown",
   "metadata": {},
   "source": [
    "#### Then we fit exported SCV with linear function in Wolfram Matematica and show fit output below"
   ]
  },
  {
   "cell_type": "markdown",
   "metadata": {},
   "source": [
    "We explore linear dependence of $ E_{gap} = E_{gap} (E_{real}) $"
   ]
  },
  {
   "cell_type": "code",
   "execution_count": 17,
   "metadata": {},
   "outputs": [
    {
     "data": {
      "image/png": "[encoded data removed]",
      "text/plain": [
       "<IPython.core.display.Image object>"
      ]
     },
     "metadata": {
      "image/png": {
       "width": 550
      }
     },
     "output_type": "display_data"
    },
    {
     "data": {
      "image/png": "[encoded data removed]",
      "text/plain": [
       "<IPython.core.display.Image object>"
      ]
     },
     "metadata": {
      "image/png": {
       "width": 550
      }
     },
     "output_type": "display_data"
    },
    {
     "data": {
      "text/latex": [
       "$\\displaystyle Fit \\; function: \\quad E_{gap} = aE_{real} + b,$"
      ],
      "text/plain": [
       "<IPython.core.display.Math object>"
      ]
     },
     "metadata": {},
     "output_type": "display_data"
    },
    {
     "data": {
      "text/latex": [
       "$\\displaystyle Where \\quad a = 0.04889, \\quad  b = -0.70906$"
      ],
      "text/plain": [
       "<IPython.core.display.Math object>"
      ]
     },
     "metadata": {},
     "output_type": "display_data"
    }
   ],
   "source": [
    "display(Image(filename = 'images/png/calib.png', retina = False, width = 550))\n",
    "display(Image(filename = 'images/png/fit_res.png', retina = False, width = 550))\n",
    "res = pd.read_csv('fit_res.csv', header=None)\n",
    "a, b = res.iloc[1][0], res.iloc[0][0]\n",
    "print_math(r'Fit \\; function: \\quad E_{gap} = aE_{real} + b,')\n",
    "print_math(f'Where \\quad a = {round(a, 5)}, \\quad  b = {round(b, 5)}')"
   ]
  },
  {
   "cell_type": "markdown",
   "metadata": {},
   "source": [
    "So now we can recover real energy of particles colliding in our detector with only $ E_{gap} $ obtained from our detector gap and $ a, b $ coefficients known, using calibration function\n",
    "$$ E_{real} = \\dfrac{E_{gap} - b}{a} $$"
   ]
  },
  {
   "cell_type": "code",
   "execution_count": 19,
   "metadata": {},
   "outputs": [],
   "source": [
    "def get_calibrated(Egap):\n",
    "    E_real = (Egap - b) / a\n",
    "    return(E_real)"
   ]
  },
  {
   "cell_type": "markdown",
   "metadata": {},
   "source": [
    "## Recovering part"
   ]
  },
  {
   "cell_type": "markdown",
   "metadata": {},
   "source": [
    "Here we generate 10 random energies, then simulate collisions in Geant4 with them"
   ]
  },
  {
   "cell_type": "code",
   "execution_count": 80,
   "metadata": {},
   "outputs": [
    {
     "data": {
      "text/plain": [
       "[146, 539, 1027, 2936, 3532, 4134, 5007, 6305, 7175, 8017, 9763]"
      ]
     },
     "execution_count": 80,
     "metadata": {},
     "output_type": "execute_result"
    }
   ],
   "source": [
    "# import random\n",
    "\n",
    "# new_energy = []\n",
    "# new_energy.append(round(random.uniform(100, 500)))\n",
    "# for i in range(0, 10):\n",
    "#     new_energy.append(round(random.uniform(0 + 1000 * i, 1000 * (i + 1))))\n",
    "# new_energy"
   ]
  },
  {
   "cell_type": "code",
   "execution_count": 21,
   "metadata": {},
   "outputs": [],
   "source": [
    "new_energy = [146, 539, 1027, 2936, 3532, 4134, 5007, 6305, 7175, 8017, 9763]"
   ]
  },
  {
   "cell_type": "markdown",
   "metadata": {},
   "source": [
    "#### We import $ E_{gap} $ datasets from genereted ROOT files with with \"unknown\" energies and then create $ E_{real} $ datasets corresponding to them with iterating through every point of a dateset and obtaining its real energy with calibration function "
   ]
  },
  {
   "cell_type": "markdown",
   "metadata": {},
   "source": [
    "As before, we also define approximate mean and sigma for have them as starting points of fit"
   ]
  },
  {
   "cell_type": "code",
   "execution_count": 22,
   "metadata": {},
   "outputs": [
    {
     "name": "stdout",
     "output_type": "stream",
     "text": [
      "0-ds: mean0 = 148.73791720617456, sigma0 = 77.36470920426348\n",
      "1-ds: mean0 = 551.5805607265155, sigma0 = 151.6002721484063\n",
      "2-ds: mean0 = 1027.2315461529315, sigma0 = 208.87889696210706\n",
      "3-ds: mean0 = 2973.5017441617206, sigma0 = 354.91728354892075\n",
      "4-ds: mean0 = 3541.6600739309365, sigma0 = 374.69180138720327\n",
      "5-ds: mean0 = 4141.340199001614, sigma0 = 429.8234608799614\n",
      "6-ds: mean0 = 5031.35732956606, sigma0 = 455.2496331995311\n",
      "7-ds: mean0 = 6324.431614406122, sigma0 = 527.5680967504214\n",
      "8-ds: mean0 = 7206.862730761089, sigma0 = 567.38720946138\n",
      "9-ds: mean0 = 7999.154939757657, sigma0 = 604.1892046847234\n",
      "10-ds: mean0 = 9749.503625157127, sigma0 = 669.5282149594414\n"
     ]
    }
   ],
   "source": [
    "varset_r = ROOT.RooArgSet(Egap, Ereal)\n",
    "\n",
    "ds_red_list = []\n",
    "mean0_red_list = []\n",
    "sigma0_red_list = []\n",
    "\n",
    "for i in range(0, 11):\n",
    "    ch = ROOT.TChain('B4')\n",
    "    filename = f'{i}re'\n",
    "    file = glob.glob(path_to_data + filename + '.root')\n",
    "    ch.Add(file[0])\n",
    "    nEvt = ch.GetEntries()\n",
    "\n",
    "    ds_red = ROOT.RooDataSet(f'data{i}', 'Dataset', varset_r)\n",
    "    flag_empty = 1\n",
    "\n",
    "    for evt in range(nEvt):\n",
    "        if ch.GetEntry(evt) <= 0:\n",
    "            break\n",
    "\n",
    "        if (flag_empty != 1): # if new & !0, Write\n",
    "            ds_red.add(varset_r)\n",
    "            flag_empty = 1  # now empty and reset par\n",
    "\n",
    "        Ereal.setVal(get_calibrated(ch.Egap))\n",
    "        Egap.setVal(ch.Egap)\n",
    "        flag_empty = 0\n",
    "\n",
    "    if flag_empty != 1:\n",
    "        ds_red.add(varset_r)  # write last event if needed \n",
    "    \n",
    "    ds_red_list.append(ds_red)\n",
    "    mean0_red_list.append(ds_red.mean(Ereal))\n",
    "    sigma0_red_list.append(ds_red.sigma(Ereal))\n",
    "    print(f'{i}-ds: mean0 = {mean0_red_list[i]}, sigma0 = {sigma0_red_list[i]}')"
   ]
  },
  {
   "cell_type": "markdown",
   "metadata": {},
   "source": [
    "#### We fit our $ E_{real} $ datasets"
   ]
  },
  {
   "cell_type": "code",
   "execution_count": 23,
   "metadata": {},
   "outputs": [
    {
     "name": "stdout",
     "output_type": "stream",
     "text": [
      "0-ds: mean = 138.60385389414503 +- 3.3937939410322713, sigma = 86.55694895042326 +- 2.6638328288447966 \n",
      "1-ds: mean = 551.4988293768807 +- 4.803441274912132, sigma = 151.74916576647524 +- 3.417148405573684 \n",
      "2-ds: mean = 1027.231077433718 +- 6.605440107327809, sigma = 208.8830047687753 +- 4.671115064080013 \n",
      "3-ds: mean = 2973.5017348917245 +- 11.223219710226658, sigma = 354.9104610340888 +- 7.935761674093413 \n",
      "4-ds: mean = 3541.6600643873344 +- 11.848750379494732, sigma = 374.69124957645374 +- 8.378239107391067 \n",
      "5-ds: mean = 4141.340188621708 +- 13.592566576275203, sigma = 429.8356450179961 +- 9.611636785431443 \n",
      "6-ds: mean = 5031.35732138207 +- 14.396166234014345, sigma = 455.24752745869876 +- 10.179468472157623 \n",
      "7-ds: mean = 6324.431605271774 +- 16.683104234237362, sigma = 527.5668265991359 +- 11.79658312353132 \n",
      "8-ds: mean = 7206.862717994612 +- 17.942227967429517, sigma = 567.3838014230561 +- 12.686849479326611 \n",
      "9-ds: mean = 7999.154927599972 +- 19.106063785554397, sigma = 604.1875144342594 +- 13.509839226210374 \n",
      "10-ds: mean = 9750.32791419666 +- 21.27465275006307, sigma = 671.0738037345942 +- 15.232316745905791 \n",
      "[#1] INFO:Minization -- RooMinimizer::optimizeConst: activating const optimization\n",
      "[#1] INFO:Eval -- RooAbsTestStatistic::initMPMode: started 7 remote server process.\n",
      "[#1] INFO:Minization -- RooMinimizer::optimizeConst: deactivating const optimization\n",
      "\n",
      "  RooFitResult: minimized FCN value: 5729.83, estimated distance to minimum: 7.63318e-06\n",
      "                covariance matrix quality: Full, accurate covariance matrix\n",
      "                Status : MINIMIZE=0 HESSE=0 \n",
      "\n",
      "    Floating Parameter    FinalValue +/-  Error   \n",
      "  --------------------  --------------------------\n",
      "             mean_ered    1.3860e+02 +/-  3.39e+00\n",
      "            sigma_ered    8.6557e+01 +/-  2.66e+00\n",
      "\n",
      "[#1] INFO:Minization -- RooMinimizer::optimizeConst: activating const optimization\n",
      "[#1] INFO:Eval -- RooAbsTestStatistic::initMPMode: started 7 remote server process.\n",
      "[#1] INFO:Minization -- RooMinimizer::optimizeConst: deactivating const optimization\n",
      "\n",
      "  RooFitResult: minimized FCN value: 6440.05, estimated distance to minimum: 1.09492e-08\n",
      "                covariance matrix quality: Full, accurate covariance matrix\n",
      "                Status : MINIMIZE=0 HESSE=0 \n",
      "\n",
      "    Floating Parameter    FinalValue +/-  Error   \n",
      "  --------------------  --------------------------\n",
      "             mean_ered    5.5150e+02 +/-  4.80e+00\n",
      "            sigma_ered    1.5175e+02 +/-  3.42e+00\n",
      "\n",
      "[#1] INFO:Minization -- RooMinimizer::optimizeConst: activating const optimization\n",
      "[#1] INFO:Eval -- RooAbsTestStatistic::initMPMode: started 7 remote server process.\n",
      "[#1] INFO:Minization -- RooMinimizer::optimizeConst: deactivating const optimization\n",
      "\n",
      "  RooFitResult: minimized FCN value: 6760.69, estimated distance to minimum: 4.01548e-07\n",
      "                covariance matrix quality: Full, accurate covariance matrix\n",
      "                Status : MINIMIZE=0 HESSE=0 \n",
      "\n",
      "    Floating Parameter    FinalValue +/-  Error   \n",
      "  --------------------  --------------------------\n",
      "             mean_ered    1.0272e+03 +/-  6.61e+00\n",
      "            sigma_ered    2.0888e+02 +/-  4.67e+00\n",
      "\n",
      "[#1] INFO:Minization -- RooMinimizer::optimizeConst: activating const optimization\n",
      "[#1] INFO:Eval -- RooAbsTestStatistic::initMPMode: started 7 remote server process.\n",
      "[#1] INFO:Minization -- RooMinimizer::optimizeConst: deactivating const optimization\n",
      "\n",
      "  RooFitResult: minimized FCN value: 7290.82, estimated distance to minimum: 7.39162e-07\n",
      "                covariance matrix quality: Full, accurate covariance matrix\n",
      "                Status : MINIMIZE=0 HESSE=0 \n",
      "\n",
      "    Floating Parameter    FinalValue +/-  Error   \n",
      "  --------------------  --------------------------\n",
      "             mean_ered    2.9735e+03 +/-  1.12e+01\n",
      "            sigma_ered    3.5491e+02 +/-  7.94e+00\n",
      "\n",
      "[#1] INFO:Minization -- RooMinimizer::optimizeConst: activating const optimization\n",
      "[#1] INFO:Eval -- RooAbsTestStatistic::initMPMode: started 7 remote server process.\n",
      "[#1] INFO:Minization -- RooMinimizer::optimizeConst: deactivating const optimization\n",
      "\n",
      "  RooFitResult: minimized FCN value: 7345.04, estimated distance to minimum: 4.33886e-09\n",
      "                covariance matrix quality: Full, accurate covariance matrix\n",
      "                Status : MINIMIZE=0 HESSE=0 \n",
      "\n",
      "    Floating Parameter    FinalValue +/-  Error   \n",
      "  --------------------  --------------------------\n",
      "             mean_ered    3.5417e+03 +/-  1.18e+01\n",
      "            sigma_ered    3.7469e+02 +/-  8.38e+00\n",
      "\n",
      "[#1] INFO:Minization -- RooMinimizer::optimizeConst: activating const optimization\n",
      "[#1] INFO:Eval -- RooAbsTestStatistic::initMPMode: started 7 remote server process.\n",
      "[#1] INFO:Minization -- RooMinimizer::optimizeConst: deactivating const optimization\n",
      "\n",
      "  RooFitResult: minimized FCN value: 7482.31, estimated distance to minimum: 1.60688e-06\n",
      "                covariance matrix quality: Full, accurate covariance matrix\n",
      "                Status : MINIMIZE=0 HESSE=0 \n",
      "\n",
      "    Floating Parameter    FinalValue +/-  Error   \n",
      "  --------------------  --------------------------\n",
      "             mean_ered    4.1413e+03 +/-  1.36e+01\n",
      "            sigma_ered    4.2984e+02 +/-  9.61e+00\n",
      "\n",
      "[#1] INFO:Minization -- RooMinimizer::optimizeConst: activating const optimization\n",
      "[#1] INFO:Eval -- RooAbsTestStatistic::initMPMode: started 7 remote server process.\n",
      "[#1] INFO:Minization -- RooMinimizer::optimizeConst: deactivating const optimization\n",
      "\n",
      "  RooFitResult: minimized FCN value: 7539.78, estimated distance to minimum: 4.27912e-08\n",
      "                covariance matrix quality: Full, accurate covariance matrix\n",
      "                Status : MINIMIZE=0 HESSE=0 \n",
      "\n",
      "    Floating Parameter    FinalValue +/-  Error   \n",
      "  --------------------  --------------------------\n",
      "             mean_ered    5.0314e+03 +/-  1.44e+01\n",
      "            sigma_ered    4.5525e+02 +/-  1.02e+01\n",
      "\n",
      "[#1] INFO:Minization -- RooMinimizer::optimizeConst: activating const optimization\n",
      "[#1] INFO:Eval -- RooAbsTestStatistic::initMPMode: started 7 remote server process.\n",
      "[#1] INFO:Minization -- RooMinimizer::optimizeConst: deactivating const optimization\n",
      "\n",
      "  RooFitResult: minimized FCN value: 7687.22, estimated distance to minimum: 1.15935e-08\n",
      "                covariance matrix quality: Full, accurate covariance matrix\n",
      "                Status : MINIMIZE=0 HESSE=0 \n",
      "\n",
      "    Floating Parameter    FinalValue +/-  Error   \n",
      "  --------------------  --------------------------\n",
      "             mean_ered    6.3244e+03 +/-  1.67e+01\n",
      "            sigma_ered    5.2757e+02 +/-  1.18e+01\n",
      "\n",
      "[#1] INFO:Minization -- RooMinimizer::optimizeConst: activating const optimization\n",
      "[#1] INFO:Eval -- RooAbsTestStatistic::initMPMode: started 7 remote server process.\n",
      "[#1] INFO:Minization -- RooMinimizer::optimizeConst: deactivating const optimization\n",
      "\n",
      "  RooFitResult: minimized FCN value: 7759.98, estimated distance to minimum: 7.21597e-08\n",
      "                covariance matrix quality: Full, accurate covariance matrix\n",
      "                Status : MINIMIZE=0 HESSE=0 \n",
      "\n",
      "    Floating Parameter    FinalValue +/-  Error   \n",
      "  --------------------  --------------------------\n",
      "             mean_ered    7.2069e+03 +/-  1.79e+01\n",
      "            sigma_ered    5.6738e+02 +/-  1.27e+01\n",
      "\n",
      "[#1] INFO:Minization -- RooMinimizer::optimizeConst: activating const optimization\n",
      "[#1] INFO:Eval -- RooAbsTestStatistic::initMPMode: started 7 remote server process.\n",
      "[#1] INFO:Minization -- RooMinimizer::optimizeConst: deactivating const optimization\n",
      "\n",
      "  RooFitResult: minimized FCN value: 7822.83, estimated distance to minimum: 1.56581e-08\n",
      "                covariance matrix quality: Full, accurate covariance matrix\n",
      "                Status : MINIMIZE=0 HESSE=0 \n",
      "\n",
      "    Floating Parameter    FinalValue +/-  Error   \n",
      "  --------------------  --------------------------\n",
      "             mean_ered    7.9992e+03 +/-  1.91e+01\n",
      "            sigma_ered    6.0419e+02 +/-  1.35e+01\n",
      "\n",
      "[#1] INFO:Minization -- RooMinimizer::optimizeConst: activating const optimization\n",
      "[#1] INFO:Eval -- RooAbsTestStatistic::initMPMode: started 7 remote server process.\n",
      "[#1] INFO:Minization -- RooMinimizer::optimizeConst: deactivating const optimization\n",
      "\n",
      "  RooFitResult: minimized FCN value: 7925.12, estimated distance to minimum: 8.27993e-05\n",
      "                covariance matrix quality: Full, accurate covariance matrix\n",
      "                Status : MINIMIZE=0 HESSE=0 \n",
      "\n",
      "    Floating Parameter    FinalValue +/-  Error   \n",
      "  --------------------  --------------------------\n",
      "             mean_ered    9.7503e+03 +/-  2.13e+01\n",
      "            sigma_ered    6.7107e+02 +/-  1.52e+01\n",
      "\n"
     ]
    }
   ],
   "source": [
    "mean_red_list = []\n",
    "mean_er_red_list = []\n",
    "gaus_red_list = []\n",
    "sigma_g_red_list = []\n",
    "sigma_ge_red_list = []\n",
    "\n",
    "for i in range(0, 11):  \n",
    "    m = mean0_red_list[i]\n",
    "    s = sigma0_red_list[i]\n",
    "\n",
    "    mean_ered  = ROOT.RooRealVar ('mean_ered' , 'mean ', m, 0.2 * m  , 2 * m)\n",
    "    sigma_ered = ROOT.RooRealVar ('sigma_ered', 'sigma', 3 * s, 0.2 * s , 10 * s)\n",
    "\n",
    "    pdf_ered   = ROOT.RooGaussian('pdf_ered'  , 'gaus' , Ereal, mean_ered, sigma_ered)\n",
    "\n",
    "    fit_rr = pdf_ered.fitTo(ds_red_list[i], ROOT.RooFit.NumCPU(7), ROOT.RooFit.PrintLevel(-1), ROOT.RooFit.Save())\n",
    "    fit_rr.Print()\n",
    "    \n",
    "    gaus_red_list.append(pdf_ered)\n",
    "    mean_red_list.append(mean_ered.getVal())\n",
    "    mean_er_red_list.append(mean_ered.getError())\n",
    "    sigma_g_red_list.append(sigma_ered.getVal())\n",
    "    sigma_ge_red_list.append(sigma_ered.getError())\n",
    "\n",
    "for i in range(0, 11):\n",
    "    print(f'{i}-ds: mean = {mean_red_list[i]} +- {mean_er_red_list[i]}, sigma = {sigma_g_red_list[i]} +- {sigma_ge_red_list[i]} ')"
   ]
  },
  {
   "cell_type": "markdown",
   "metadata": {},
   "source": [
    "#### Example of how fitted dataset looks like"
   ]
  },
  {
   "cell_type": "code",
   "execution_count": 25,
   "metadata": {},
   "outputs": [
    {
     "data": {
      "image/png": "[encoded data removed]",
      "text/plain": [
       "<IPython.core.display.Image object>"
      ]
     },
     "metadata": {
      "image/png": {
       "width": 550
      }
     },
     "output_type": "display_data"
    },
    {
     "name": "stderr",
     "output_type": "stream",
     "text": [
      "Warning in <TCanvas::Constructor>: Deleting canvas with same name: cB\n",
      "Info in <TCanvas::Print>: png file images/png/test_for_output_ds.png has been created\n",
      "Info in <TCanvas::Print>: pdf file images/pdf/test_for_output_ds.pdf has been created\n"
     ]
    }
   ],
   "source": [
    "bufram = Ereal.frame(7000,13000,60)\n",
    "\n",
    "_MYW = 800\n",
    "_MYH = 600\n",
    "_MYT = 0.08*_MYH\n",
    "_MYB = 0.14*_MYH\n",
    "_MYL = 0.15*_MYW\n",
    "_MYR = 0.04*_MYW\n",
    "\n",
    "cB = ROOT.TCanvas('cB','cB',_MYW,_MYH)\n",
    "cB.SetLeftMargin( _MYL/_MYW )\n",
    "cB.SetRightMargin( _MYR/_MYW )\n",
    "cB.SetTopMargin( _MYT/_MYH )\n",
    "cB.SetBottomMargin( _MYB/_MYH )\n",
    "cB.SetTickx(0)\n",
    "cB.SetTicky(0)\n",
    "bufram.GetYaxis().SetTitleOffset(1.3)\n",
    "\n",
    "# for i in range(0, 11):\n",
    "#     ds_list[i].plotOn(bufram, ROOT.RooFit.MarkerSize(0.6), ROOT.RooFit.Name('data'))\n",
    "\n",
    "ds_red_list[10].plotOn(bufram, ROOT.RooFit.MarkerSize(0.6), ROOT.RooFit.Name('data'))\n",
    "gaus_red_list[10].plotOn(bufram)\n",
    "# pdf_ered.plotOn(bufram)\n",
    "bufram.Draw()\n",
    "\n",
    "cB.SaveAs('images/png/test_for_output_ds.png')\n",
    "cB.SaveAs('images/pdf/test_for_output_ds.pdf')\n",
    "display(Image(filename = 'images/png/test_for_output_ds.png', retina = False, width = 550))"
   ]
  },
  {
   "cell_type": "markdown",
   "metadata": {},
   "source": [
    "#### We create list of $ \\dfrac{\\Delta E_{real}}{E_{real}} $ for 10 obtained $ E_{real} $ points"
   ]
  },
  {
   "cell_type": "code",
   "execution_count": 26,
   "metadata": {},
   "outputs": [],
   "source": [
    "deltaEtoE = []\n",
    "deltaEtoE_err = []\n",
    "\n",
    "for i in range(0, 11):\n",
    "    dEtoE = sigma_g_red_list[i] / mean_red_list[i]\n",
    "    err = dEtoE * np.sqrt( ((mean_er_red_list[i] / mean_red_list[i]) ** 2) + ((sigma_ge_red_list[i] / sigma_g_red_list[i]) ** 2) )\n",
    "    deltaEtoE.append(dEtoE)\n",
    "    deltaEtoE_err.append(err)"
   ]
  },
  {
   "cell_type": "markdown",
   "metadata": {},
   "source": [
    "#### Export it to SCV with energy itself points"
   ]
  },
  {
   "cell_type": "code",
   "execution_count": 32,
   "metadata": {},
   "outputs": [
    {
     "data": {
      "text/html": [
       "<div>\n",
       "<style scoped>\n",
       "    .dataframe tbody tr th:only-of-type {\n",
       "        vertical-align: middle;\n",
       "    }\n",
       "\n",
       "    .dataframe tbody tr th {\n",
       "        vertical-align: top;\n",
       "    }\n",
       "\n",
       "    .dataframe thead th {\n",
       "        text-align: right;\n",
       "    }\n",
       "</style>\n",
       "<table border=\"1\" class=\"dataframe\">\n",
       "  <thead>\n",
       "    <tr style=\"text-align: right;\">\n",
       "      <th></th>\n",
       "      <th>Energy, MeV</th>\n",
       "      <th>Sigma(E), MeV</th>\n",
       "      <th>dE/E</th>\n",
       "      <th>Sigma(dE/E)</th>\n",
       "    </tr>\n",
       "  </thead>\n",
       "  <tbody>\n",
       "    <tr>\n",
       "      <th>0</th>\n",
       "      <td>138.603854</td>\n",
       "      <td>3.393794</td>\n",
       "      <td>0.624492</td>\n",
       "      <td>0.024560</td>\n",
       "    </tr>\n",
       "    <tr>\n",
       "      <th>1</th>\n",
       "      <td>551.498829</td>\n",
       "      <td>4.803441</td>\n",
       "      <td>0.275158</td>\n",
       "      <td>0.006643</td>\n",
       "    </tr>\n",
       "    <tr>\n",
       "      <th>2</th>\n",
       "      <td>1027.231077</td>\n",
       "      <td>6.605440</td>\n",
       "      <td>0.203346</td>\n",
       "      <td>0.004732</td>\n",
       "    </tr>\n",
       "    <tr>\n",
       "      <th>3</th>\n",
       "      <td>2973.501735</td>\n",
       "      <td>11.223220</td>\n",
       "      <td>0.119358</td>\n",
       "      <td>0.002707</td>\n",
       "    </tr>\n",
       "    <tr>\n",
       "      <th>4</th>\n",
       "      <td>3541.660064</td>\n",
       "      <td>11.848750</td>\n",
       "      <td>0.105795</td>\n",
       "      <td>0.002392</td>\n",
       "    </tr>\n",
       "    <tr>\n",
       "      <th>5</th>\n",
       "      <td>4141.340189</td>\n",
       "      <td>13.592567</td>\n",
       "      <td>0.103791</td>\n",
       "      <td>0.002346</td>\n",
       "    </tr>\n",
       "    <tr>\n",
       "      <th>6</th>\n",
       "      <td>5031.357321</td>\n",
       "      <td>14.396166</td>\n",
       "      <td>0.090482</td>\n",
       "      <td>0.002040</td>\n",
       "    </tr>\n",
       "    <tr>\n",
       "      <th>7</th>\n",
       "      <td>6324.431605</td>\n",
       "      <td>16.683104</td>\n",
       "      <td>0.083417</td>\n",
       "      <td>0.001878</td>\n",
       "    </tr>\n",
       "    <tr>\n",
       "      <th>8</th>\n",
       "      <td>7206.862718</td>\n",
       "      <td>17.942228</td>\n",
       "      <td>0.078728</td>\n",
       "      <td>0.001771</td>\n",
       "    </tr>\n",
       "    <tr>\n",
       "      <th>9</th>\n",
       "      <td>7999.154928</td>\n",
       "      <td>19.106064</td>\n",
       "      <td>0.075531</td>\n",
       "      <td>0.001699</td>\n",
       "    </tr>\n",
       "    <tr>\n",
       "      <th>10</th>\n",
       "      <td>9750.327914</td>\n",
       "      <td>21.274653</td>\n",
       "      <td>0.068826</td>\n",
       "      <td>0.001569</td>\n",
       "    </tr>\n",
       "  </tbody>\n",
       "</table>\n",
       "</div>"
      ],
      "text/plain": [
       "    Energy, MeV  Sigma(E), MeV      dE/E  Sigma(dE/E)\n",
       "0    138.603854       3.393794  0.624492     0.024560\n",
       "1    551.498829       4.803441  0.275158     0.006643\n",
       "2   1027.231077       6.605440  0.203346     0.004732\n",
       "3   2973.501735      11.223220  0.119358     0.002707\n",
       "4   3541.660064      11.848750  0.105795     0.002392\n",
       "5   4141.340189      13.592567  0.103791     0.002346\n",
       "6   5031.357321      14.396166  0.090482     0.002040\n",
       "7   6324.431605      16.683104  0.083417     0.001878\n",
       "8   7206.862718      17.942228  0.078728     0.001771\n",
       "9   7999.154928      19.106064  0.075531     0.001699\n",
       "10  9750.327914      21.274653  0.068826     0.001569"
      ]
     },
     "execution_count": 32,
     "metadata": {},
     "output_type": "execute_result"
    }
   ],
   "source": [
    "columns_red_list = ['Energy, MeV', 'Sigma(E), MeV', 'dE/E', 'Sigma(dE/E)']\n",
    "df_red = pd.DataFrame(columns = columns_red_list)\n",
    "\n",
    "for i in range(0, 11):\n",
    "    a_log_red = [mean_red_list[i], mean_er_red_list[i], deltaEtoE[i], deltaEtoE_err[i]]\n",
    "    df_red.loc[i] = a_log_red\n",
    "    \n",
    "df_red.to_csv('log_red.csv', index = False)\n",
    "df_red"
   ]
  },
  {
   "cell_type": "markdown",
   "metadata": {},
   "source": [
    "#### Then we fit exported SCV with in Wolfram Matematica and show fit output below"
   ]
  },
  {
   "cell_type": "code",
   "execution_count": 84,
   "metadata": {},
   "outputs": [
    {
     "data": {
      "image/png": "[encoded data removed]",
      "text/plain": [
       "<IPython.core.display.Image object>"
      ]
     },
     "metadata": {
      "image/png": {
       "width": 550
      }
     },
     "output_type": "display_data"
    },
    {
     "data": {
      "image/png": "[encoded data removed]",
      "text/plain": [
       "<IPython.core.display.Image object>"
      ]
     },
     "metadata": {
      "image/png": {
       "width": 550
      }
     },
     "output_type": "display_data"
    },
    {
     "data": {
      "text/latex": [
       "$\\displaystyle Fit \\; function: \\quad \\frac{\\Delta E}{E} = a + \\frac{b}{\\sqrt{E}},$"
      ],
      "text/plain": [
       "<IPython.core.display.Math object>"
      ]
     },
     "metadata": {},
     "output_type": "display_data"
    },
    {
     "data": {
      "text/latex": [
       "$\\displaystyle Where \\quad a = 0.04889, \\quad  b = -0.70906$"
      ],
      "text/plain": [
       "<IPython.core.display.Math object>"
      ]
     },
     "metadata": {},
     "output_type": "display_data"
    }
   ],
   "source": [
    "display(Image(filename = 'images/png/re.png', retina = False, width = 550))\n",
    "display(Image(filename = 'images/png/fit_re_res.png', retina = False, width = 550))\n",
    "res = pd.read_csv('fit_re_res.csv', header=None)\n",
    "a_r, b_r = res.iloc[1][0], res.iloc[0][0]\n",
    "print_math(r'Fit \\; function: \\quad \\frac{\\Delta E}{E} = a + \\frac{b}{\\sqrt{E}},')\n",
    "print_math(f'Where \\quad a = {round(a_r, 5)}, \\quad  b = {round(b_r, 5)}')"
   ]
  }
 ],
 "metadata": {
  "kernelspec": {
   "display_name": "Python 3",
   "language": "python",
   "name": "python3"
  },
  "language_info": {
   "codemirror_mode": {
    "name": "ipython",
    "version": 3
   },
   "file_extension": ".py",
   "mimetype": "text/x-python",
   "name": "python",
   "nbconvert_exporter": "python",
   "pygments_lexer": "ipython3",
   "version": "3.7.3"
  }
 },
 "nbformat": 4,
 "nbformat_minor": 4
}
